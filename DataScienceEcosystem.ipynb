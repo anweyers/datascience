{
 "cells": [
  {
   "cell_type": "markdown",
   "id": "39d0021a-fecf-412e-acdd-4a57a9cfc993",
   "metadata": {},
   "source": [
    "# Data Science Tools and Ecosystem"
   ]
  },
  {
   "cell_type": "markdown",
   "id": "4cb704ae-578e-48e0-acb2-26522762ad12",
   "metadata": {},
   "source": [
    "In this notebook, Data Science Tools and Ecosystem are summarized."
   ]
  },
  {
   "cell_type": "markdown",
   "id": "b43db1e1-109b-4721-b367-79bbf45f1183",
   "metadata": {},
   "source": [
    "Some of the popular languages that Data Scientists use are:"
   ]
  },
  {
   "cell_type": "markdown",
   "id": "f254ce64-a530-40cf-83e7-f49d88287b41",
   "metadata": {},
   "source": [
    "1. Python\n",
    "2. R\n",
    "3. Julia"
   ]
  },
  {
   "cell_type": "markdown",
   "id": "953e3c98-7634-4ea9-be12-593258f322f4",
   "metadata": {},
   "source": [
    "Some of the commonly used libraries used by Data Scientists include:"
   ]
  },
  {
   "cell_type": "markdown",
   "id": "2e4a37e0-d898-4af0-aded-ac0c1d0549e6",
   "metadata": {},
   "source": [
    "1. pandas\n",
    "2. matplotlib\n",
    "3. numpy\n",
    "4. scipy"
   ]
  },
  {
   "cell_type": "markdown",
   "id": "0c572dc8-e5cc-44de-83a7-37f88264fbba",
   "metadata": {},
   "source": [
    "| Data Science Tools |\n",
    "|--------|\n",
    "|Jupyter Notebook|\n",
    "|Visual Studio Code|\n",
    "|Google Colaboratory|"
   ]
  },
  {
   "cell_type": "markdown",
   "id": "44aedc25-6893-4ffb-96fa-34231799e87d",
   "metadata": {},
   "source": [
    "### Below are a few examples of evaluating arithmetic expressions in Python"
   ]
  },
  {
   "cell_type": "code",
   "execution_count": 1,
   "id": "03e45b7d-1e7d-49dd-bda6-20a635228282",
   "metadata": {
    "tags": []
   },
   "outputs": [
    {
     "data": {
      "text/plain": [
       "17"
      ]
     },
     "execution_count": 1,
     "metadata": {},
     "output_type": "execute_result"
    }
   ],
   "source": [
    "# This a simple arithmetic expression to mutiply then add integers.\n",
    "(3*4)+5"
   ]
  },
  {
   "cell_type": "code",
   "execution_count": 2,
   "id": "2d058aaa-564a-49e2-9222-0b08411e40a8",
   "metadata": {
    "tags": []
   },
   "outputs": [
    {
     "data": {
      "text/plain": [
       "3.3333333333333335"
      ]
     },
     "execution_count": 2,
     "metadata": {},
     "output_type": "execute_result"
    }
   ],
   "source": [
    "# This will convert 200 minutes to hours by diving by \n",
    "200 / 60 "
   ]
  },
  {
   "cell_type": "markdown",
   "id": "55ea6f1a-e80f-4c4f-b953-cf4434935460",
   "metadata": {},
   "source": [
    "**Objectives:**\n",
    "- List popular languages for Data Science\n",
    "- List commonly use libraries for Data Scientists\n",
    "- List some Data Science Tools\n",
    "- Show some code Examples"
   ]
  },
  {
   "cell_type": "markdown",
   "id": "3e722a2e-d79a-444c-b125-2ca64f9635d1",
   "metadata": {},
   "source": [
    "## Author ##\n",
    "Anette Weyers"
   ]
  },
  {
   "cell_type": "code",
   "execution_count": null,
   "id": "18d75e79-02d3-47c5-bec2-20ca70a6b80d",
   "metadata": {},
   "outputs": [],
   "source": []
  }
 ],
 "metadata": {
  "kernelspec": {
   "display_name": "Python",
   "language": "python",
   "name": "conda-env-python-py"
  },
  "language_info": {
   "codemirror_mode": {
    "name": "ipython",
    "version": 3
   },
   "file_extension": ".py",
   "mimetype": "text/x-python",
   "name": "python",
   "nbconvert_exporter": "python",
   "pygments_lexer": "ipython3",
   "version": "3.7.12"
  }
 },
 "nbformat": 4,
 "nbformat_minor": 5
}
